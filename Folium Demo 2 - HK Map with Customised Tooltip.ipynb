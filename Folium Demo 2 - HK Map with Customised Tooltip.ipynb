{
 "cells": [
  {
   "cell_type": "markdown",
   "metadata": {},
   "source": [
    "--------------------------------------------------------------------------------------\n",
    "![logo](https://4.bp.blogspot.com/-LAXjdvVCYCU/WxeQFKQ-1wI/AAAAAAAAACs/o8IJ1eLLAEwQYv2Az7EqQi9jODTqRx7wACK4BGAYYCw/s1000/tight%2Bbanner_with_description.png)"
   ]
  },
  {
   "cell_type": "markdown",
   "metadata": {},
   "source": [
    "--------------------------------------------------------------------------------------\n",
    "Please acknowledge <b>team cyda - Yeung Wong & Carrie Lo</b> when using the code\n",
    "\n",
    "<b><font color='#3b5998'>If you find this script is helpful, please feel free to endorse us through Linkedin!</font></b>\n",
    "\n",
    "<b>Linkedin:</b>\n",
    "\n",
    "Carrie Lo - https://www.linkedin.com/in/carrielsc/\n",
    "\n",
    "Yeung Wong - https://www.linkedin.com/in/yeungwong/"
   ]
  },
  {
   "cell_type": "markdown",
   "metadata": {},
   "source": [
    "# 1. Preliminary"
   ]
  },
  {
   "cell_type": "markdown",
   "metadata": {},
   "source": [
    "## 1.1 import libraries"
   ]
  },
  {
   "cell_type": "code",
   "execution_count": 1,
   "metadata": {},
   "outputs": [],
   "source": [
    "#####################\n",
    "# Kernal - Python 3 #\n",
    "#####################\n",
    "\n",
    "import pandas as pd\n",
    "import folium\n",
    "import json\n",
    "from IPython.display import IFrame"
   ]
  },
  {
   "cell_type": "markdown",
   "metadata": {},
   "source": [
    "#### Learn more about Folium: https://python-visualization.github.io/folium/modules.html"
   ]
  },
  {
   "cell_type": "markdown",
   "metadata": {},
   "source": [
    "## 1.2 import data"
   ]
  },
  {
   "cell_type": "code",
   "execution_count": 2,
   "metadata": {},
   "outputs": [
    {
     "data": {
      "text/html": [
       "<div>\n",
       "<style scoped>\n",
       "    .dataframe tbody tr th:only-of-type {\n",
       "        vertical-align: middle;\n",
       "    }\n",
       "\n",
       "    .dataframe tbody tr th {\n",
       "        vertical-align: top;\n",
       "    }\n",
       "\n",
       "    .dataframe thead th {\n",
       "        text-align: right;\n",
       "    }\n",
       "</style>\n",
       "<table border=\"1\" class=\"dataframe\">\n",
       "  <thead>\n",
       "    <tr style=\"text-align: right;\">\n",
       "      <th></th>\n",
       "      <th>區議會分區</th>\n",
       "      <th>18-35 (2019)</th>\n",
       "      <th>36-65 (2019)</th>\n",
       "      <th>&gt;=66 (2019)</th>\n",
       "      <th>18-35 (2016)</th>\n",
       "      <th>36-65 (2016)</th>\n",
       "      <th>&gt;=66 (2016)</th>\n",
       "      <th>18-35 (Diff)</th>\n",
       "      <th>36-65 (Diff)</th>\n",
       "      <th>&gt;=66 (Diff)</th>\n",
       "      <th>...</th>\n",
       "      <th>&gt;=66 (% Change)</th>\n",
       "      <th>18-35 (Proportion in 2019)</th>\n",
       "      <th>36-65 (Proportion in 2019)</th>\n",
       "      <th>&gt;=66 (Proportion in 2019)</th>\n",
       "      <th>18-35 (Proportion in 2016)</th>\n",
       "      <th>36-65 (Proportion in 2016)</th>\n",
       "      <th>&gt;=66 (Proportion in 2016)</th>\n",
       "      <th>18-35 (Change in Proportion)</th>\n",
       "      <th>36-65 (Change in Proportion)</th>\n",
       "      <th>&gt;=66 (Change in Proportion)</th>\n",
       "    </tr>\n",
       "  </thead>\n",
       "  <tbody>\n",
       "    <tr>\n",
       "      <th>0</th>\n",
       "      <td>中西區</td>\n",
       "      <td>22197</td>\n",
       "      <td>61678</td>\n",
       "      <td>26608</td>\n",
       "      <td>20682</td>\n",
       "      <td>61238</td>\n",
       "      <td>23084</td>\n",
       "      <td>1515</td>\n",
       "      <td>440</td>\n",
       "      <td>3524</td>\n",
       "      <td>...</td>\n",
       "      <td>0.152660</td>\n",
       "      <td>0.200909</td>\n",
       "      <td>0.558258</td>\n",
       "      <td>0.240833</td>\n",
       "      <td>0.196964</td>\n",
       "      <td>0.583197</td>\n",
       "      <td>0.219839</td>\n",
       "      <td>0.003945</td>\n",
       "      <td>-0.024939</td>\n",
       "      <td>0.020994</td>\n",
       "    </tr>\n",
       "    <tr>\n",
       "      <th>1</th>\n",
       "      <td>灣仔</td>\n",
       "      <td>12559</td>\n",
       "      <td>40401</td>\n",
       "      <td>21879</td>\n",
       "      <td>11816</td>\n",
       "      <td>40170</td>\n",
       "      <td>19660</td>\n",
       "      <td>743</td>\n",
       "      <td>231</td>\n",
       "      <td>2219</td>\n",
       "      <td>...</td>\n",
       "      <td>0.112869</td>\n",
       "      <td>0.167814</td>\n",
       "      <td>0.539839</td>\n",
       "      <td>0.292348</td>\n",
       "      <td>0.164922</td>\n",
       "      <td>0.560673</td>\n",
       "      <td>0.274405</td>\n",
       "      <td>0.002892</td>\n",
       "      <td>-0.020834</td>\n",
       "      <td>0.017943</td>\n",
       "    </tr>\n",
       "    <tr>\n",
       "      <th>2</th>\n",
       "      <td>東區</td>\n",
       "      <td>66532</td>\n",
       "      <td>174453</td>\n",
       "      <td>82740</td>\n",
       "      <td>62033</td>\n",
       "      <td>173464</td>\n",
       "      <td>71884</td>\n",
       "      <td>4499</td>\n",
       "      <td>989</td>\n",
       "      <td>10856</td>\n",
       "      <td>...</td>\n",
       "      <td>0.151021</td>\n",
       "      <td>0.205520</td>\n",
       "      <td>0.538893</td>\n",
       "      <td>0.255587</td>\n",
       "      <td>0.201811</td>\n",
       "      <td>0.564329</td>\n",
       "      <td>0.233860</td>\n",
       "      <td>0.003709</td>\n",
       "      <td>-0.025436</td>\n",
       "      <td>0.021728</td>\n",
       "    </tr>\n",
       "    <tr>\n",
       "      <th>3</th>\n",
       "      <td>南區</td>\n",
       "      <td>31665</td>\n",
       "      <td>83093</td>\n",
       "      <td>37236</td>\n",
       "      <td>29574</td>\n",
       "      <td>82004</td>\n",
       "      <td>32198</td>\n",
       "      <td>2091</td>\n",
       "      <td>1089</td>\n",
       "      <td>5038</td>\n",
       "      <td>...</td>\n",
       "      <td>0.156469</td>\n",
       "      <td>0.208331</td>\n",
       "      <td>0.546686</td>\n",
       "      <td>0.244983</td>\n",
       "      <td>0.205695</td>\n",
       "      <td>0.570359</td>\n",
       "      <td>0.223946</td>\n",
       "      <td>0.002636</td>\n",
       "      <td>-0.023673</td>\n",
       "      <td>0.021038</td>\n",
       "    </tr>\n",
       "    <tr>\n",
       "      <th>4</th>\n",
       "      <td>油尖旺</td>\n",
       "      <td>27970</td>\n",
       "      <td>70649</td>\n",
       "      <td>30531</td>\n",
       "      <td>25071</td>\n",
       "      <td>67588</td>\n",
       "      <td>27376</td>\n",
       "      <td>2899</td>\n",
       "      <td>3061</td>\n",
       "      <td>3155</td>\n",
       "      <td>...</td>\n",
       "      <td>0.115247</td>\n",
       "      <td>0.216570</td>\n",
       "      <td>0.547031</td>\n",
       "      <td>0.236400</td>\n",
       "      <td>0.208864</td>\n",
       "      <td>0.563069</td>\n",
       "      <td>0.228067</td>\n",
       "      <td>0.007706</td>\n",
       "      <td>-0.016039</td>\n",
       "      <td>0.008333</td>\n",
       "    </tr>\n",
       "  </tbody>\n",
       "</table>\n",
       "<p>5 rows × 22 columns</p>\n",
       "</div>"
      ],
      "text/plain": [
       "  區議會分區  18-35 (2019)  36-65 (2019)  >=66 (2019)  18-35 (2016)  36-65 (2016)  \\\n",
       "0   中西區         22197         61678        26608         20682         61238   \n",
       "1    灣仔         12559         40401        21879         11816         40170   \n",
       "2    東區         66532        174453        82740         62033        173464   \n",
       "3    南區         31665         83093        37236         29574         82004   \n",
       "4   油尖旺         27970         70649        30531         25071         67588   \n",
       "\n",
       "   >=66 (2016)  18-35 (Diff)  36-65 (Diff)  >=66 (Diff)  ...  >=66 (% Change)  \\\n",
       "0        23084          1515           440         3524  ...         0.152660   \n",
       "1        19660           743           231         2219  ...         0.112869   \n",
       "2        71884          4499           989        10856  ...         0.151021   \n",
       "3        32198          2091          1089         5038  ...         0.156469   \n",
       "4        27376          2899          3061         3155  ...         0.115247   \n",
       "\n",
       "   18-35 (Proportion in 2019)  36-65 (Proportion in 2019)  \\\n",
       "0                    0.200909                    0.558258   \n",
       "1                    0.167814                    0.539839   \n",
       "2                    0.205520                    0.538893   \n",
       "3                    0.208331                    0.546686   \n",
       "4                    0.216570                    0.547031   \n",
       "\n",
       "   >=66 (Proportion in 2019)  18-35 (Proportion in 2016)  \\\n",
       "0                   0.240833                    0.196964   \n",
       "1                   0.292348                    0.164922   \n",
       "2                   0.255587                    0.201811   \n",
       "3                   0.244983                    0.205695   \n",
       "4                   0.236400                    0.208864   \n",
       "\n",
       "   36-65 (Proportion in 2016)  >=66 (Proportion in 2016)  \\\n",
       "0                    0.583197                   0.219839   \n",
       "1                    0.560673                   0.274405   \n",
       "2                    0.564329                   0.233860   \n",
       "3                    0.570359                   0.223946   \n",
       "4                    0.563069                   0.228067   \n",
       "\n",
       "   18-35 (Change in Proportion)  36-65 (Change in Proportion)  \\\n",
       "0                      0.003945                     -0.024939   \n",
       "1                      0.002892                     -0.020834   \n",
       "2                      0.003709                     -0.025436   \n",
       "3                      0.002636                     -0.023673   \n",
       "4                      0.007706                     -0.016039   \n",
       "\n",
       "   >=66 (Change in Proportion)  \n",
       "0                     0.020994  \n",
       "1                     0.017943  \n",
       "2                     0.021728  \n",
       "3                     0.021038  \n",
       "4                     0.008333  \n",
       "\n",
       "[5 rows x 22 columns]"
      ]
     },
     "execution_count": 2,
     "metadata": {},
     "output_type": "execute_result"
    }
   ],
   "source": [
    "data2 = pd.read_excel('Consolidated Data.xlsx',sheet_name='Voter Proportion By Age Group')\n",
    "data2.head()"
   ]
  },
  {
   "cell_type": "code",
   "execution_count": 3,
   "metadata": {},
   "outputs": [],
   "source": [
    "district_name = pd.read_excel('District Name.xlsx')"
   ]
  },
  {
   "cell_type": "code",
   "execution_count": 4,
   "metadata": {},
   "outputs": [],
   "source": [
    "# Get a map json file\n",
    "# HK : https://abhijeet.carto.com/tables/hkg_adm1/public\n",
    "hk_geo = r'hkg_adm1.geojson'"
   ]
  },
  {
   "cell_type": "markdown",
   "metadata": {},
   "source": [
    "# 2. Study the map json architecture & Prepare tooltip"
   ]
  },
  {
   "cell_type": "markdown",
   "metadata": {},
   "source": [
    "## 2.1 Study the structure of the map json file"
   ]
  },
  {
   "cell_type": "code",
   "execution_count": 5,
   "metadata": {},
   "outputs": [],
   "source": [
    "with open(hk_geo, encoding=\"utf8\") as f: \n",
    "    map_data = f.readlines()\n",
    "    map_data = [json.loads(line) for line in map_data]\n",
    "map_data = map_data[0]"
   ]
  },
  {
   "cell_type": "code",
   "execution_count": 6,
   "metadata": {},
   "outputs": [
    {
     "data": {
      "text/plain": [
       "['type', 'features']"
      ]
     },
     "execution_count": 6,
     "metadata": {},
     "output_type": "execute_result"
    }
   ],
   "source": [
    "# Layer 1\n",
    "[key for key in map_data]"
   ]
  },
  {
   "cell_type": "code",
   "execution_count": 7,
   "metadata": {},
   "outputs": [
    {
     "data": {
      "text/plain": [
       "['type', 'geometry', 'properties']"
      ]
     },
     "execution_count": 7,
     "metadata": {},
     "output_type": "execute_result"
    }
   ],
   "source": [
    "# Layer 2 under Layer 1 - 'features'\n",
    "[key for key in map_data['features'][0]]"
   ]
  },
  {
   "cell_type": "code",
   "execution_count": 8,
   "metadata": {},
   "outputs": [
    {
     "data": {
      "text/plain": [
       "['type', 'coordinates']"
      ]
     },
     "execution_count": 8,
     "metadata": {},
     "output_type": "execute_result"
    }
   ],
   "source": [
    "# Layer 3 under Layer 2 - 'geometry'\n",
    "[key for key in map_data['features'][0]['geometry']]"
   ]
  },
  {
   "cell_type": "code",
   "execution_count": 9,
   "metadata": {},
   "outputs": [
    {
     "data": {
      "text/plain": [
       "['id_0',\n",
       " 'iso',\n",
       " 'name_0',\n",
       " 'id_1',\n",
       " 'name_1',\n",
       " 'nl_name_1',\n",
       " 'varname_1',\n",
       " 'type_1',\n",
       " 'engtype_1',\n",
       " 'cartodb_id',\n",
       " 'created_at',\n",
       " 'updated_at']"
      ]
     },
     "execution_count": 9,
     "metadata": {},
     "output_type": "execute_result"
    }
   ],
   "source": [
    "# Layer 3 under Layer 2 - 'properties'\n",
    "[key for key in map_data['features'][0]['properties']]"
   ]
  },
  {
   "cell_type": "code",
   "execution_count": 10,
   "metadata": {},
   "outputs": [
    {
     "name": "stdout",
     "output_type": "stream",
     "text": [
      "{'id_0': 102, 'iso': 'HKG', 'name_0': 'Hong Kong', 'id_1': 3, 'name_1': 'Islands', 'nl_name_1': None, 'varname_1': None, 'type_1': 'District', 'engtype_1': 'District', 'cartodb_id': 3, 'created_at': '2015-06-09T13:14:01Z', 'updated_at': '2015-06-09T13:14:01Z'}\n"
     ]
    }
   ],
   "source": [
    "print(map_data['features'][0]['properties'])"
   ]
  },
  {
   "cell_type": "code",
   "execution_count": 11,
   "metadata": {
    "scrolled": true
   },
   "outputs": [
    {
     "data": {
      "text/html": [
       "<div>\n",
       "<style scoped>\n",
       "    .dataframe tbody tr th:only-of-type {\n",
       "        vertical-align: middle;\n",
       "    }\n",
       "\n",
       "    .dataframe tbody tr th {\n",
       "        vertical-align: top;\n",
       "    }\n",
       "\n",
       "    .dataframe thead th {\n",
       "        text-align: right;\n",
       "    }\n",
       "</style>\n",
       "<table border=\"1\" class=\"dataframe\">\n",
       "  <thead>\n",
       "    <tr style=\"text-align: right;\">\n",
       "      <th></th>\n",
       "      <th>Sort_Index</th>\n",
       "      <th>Eng_name</th>\n",
       "    </tr>\n",
       "  </thead>\n",
       "  <tbody>\n",
       "    <tr>\n",
       "      <th>0</th>\n",
       "      <td>0</td>\n",
       "      <td>Islands</td>\n",
       "    </tr>\n",
       "    <tr>\n",
       "      <th>1</th>\n",
       "      <td>1</td>\n",
       "      <td>Tai Po</td>\n",
       "    </tr>\n",
       "    <tr>\n",
       "      <th>2</th>\n",
       "      <td>2</td>\n",
       "      <td>North</td>\n",
       "    </tr>\n",
       "    <tr>\n",
       "      <th>3</th>\n",
       "      <td>3</td>\n",
       "      <td>Sai Kung</td>\n",
       "    </tr>\n",
       "    <tr>\n",
       "      <th>4</th>\n",
       "      <td>4</td>\n",
       "      <td>Wong Tai Sin</td>\n",
       "    </tr>\n",
       "    <tr>\n",
       "      <th>5</th>\n",
       "      <td>5</td>\n",
       "      <td>Yau Tsim Mong</td>\n",
       "    </tr>\n",
       "    <tr>\n",
       "      <th>6</th>\n",
       "      <td>6</td>\n",
       "      <td>Central and Western</td>\n",
       "    </tr>\n",
       "    <tr>\n",
       "      <th>7</th>\n",
       "      <td>7</td>\n",
       "      <td>Sham Shui Po</td>\n",
       "    </tr>\n",
       "    <tr>\n",
       "      <th>8</th>\n",
       "      <td>8</td>\n",
       "      <td>Eastern</td>\n",
       "    </tr>\n",
       "    <tr>\n",
       "      <th>9</th>\n",
       "      <td>9</td>\n",
       "      <td>Southern</td>\n",
       "    </tr>\n",
       "    <tr>\n",
       "      <th>10</th>\n",
       "      <td>10</td>\n",
       "      <td>Kowloon City</td>\n",
       "    </tr>\n",
       "    <tr>\n",
       "      <th>11</th>\n",
       "      <td>11</td>\n",
       "      <td>Kwai Tsing</td>\n",
       "    </tr>\n",
       "    <tr>\n",
       "      <th>12</th>\n",
       "      <td>12</td>\n",
       "      <td>Kwun Tong</td>\n",
       "    </tr>\n",
       "    <tr>\n",
       "      <th>13</th>\n",
       "      <td>13</td>\n",
       "      <td>Wan Chai</td>\n",
       "    </tr>\n",
       "    <tr>\n",
       "      <th>14</th>\n",
       "      <td>14</td>\n",
       "      <td>Sha Tin</td>\n",
       "    </tr>\n",
       "    <tr>\n",
       "      <th>15</th>\n",
       "      <td>15</td>\n",
       "      <td>Tsuen Wan</td>\n",
       "    </tr>\n",
       "    <tr>\n",
       "      <th>16</th>\n",
       "      <td>16</td>\n",
       "      <td>Tuen Mun</td>\n",
       "    </tr>\n",
       "    <tr>\n",
       "      <th>17</th>\n",
       "      <td>17</td>\n",
       "      <td>Yuen Long</td>\n",
       "    </tr>\n",
       "  </tbody>\n",
       "</table>\n",
       "</div>"
      ],
      "text/plain": [
       "    Sort_Index             Eng_name\n",
       "0            0              Islands\n",
       "1            1               Tai Po\n",
       "2            2                North\n",
       "3            3             Sai Kung\n",
       "4            4         Wong Tai Sin\n",
       "5            5        Yau Tsim Mong\n",
       "6            6  Central and Western\n",
       "7            7         Sham Shui Po\n",
       "8            8              Eastern\n",
       "9            9             Southern\n",
       "10          10         Kowloon City\n",
       "11          11           Kwai Tsing\n",
       "12          12            Kwun Tong\n",
       "13          13             Wan Chai\n",
       "14          14              Sha Tin\n",
       "15          15            Tsuen Wan\n",
       "16          16             Tuen Mun\n",
       "17          17            Yuen Long"
      ]
     },
     "execution_count": 11,
     "metadata": {},
     "output_type": "execute_result"
    }
   ],
   "source": [
    "json_map_file = []\n",
    "for i in range(len(map_data['features'])):\n",
    "    json_map_file.append(map_data['features'][i]['properties']['name_1'])\n",
    "json_map_file = pd.DataFrame({'Sort_Index': range(len(map_data['features'])), 'Eng_name': json_map_file})\n",
    "json_map_file"
   ]
  },
  {
   "cell_type": "code",
   "execution_count": 12,
   "metadata": {
    "scrolled": true
   },
   "outputs": [
    {
     "data": {
      "text/html": [
       "<div>\n",
       "<style scoped>\n",
       "    .dataframe tbody tr th:only-of-type {\n",
       "        vertical-align: middle;\n",
       "    }\n",
       "\n",
       "    .dataframe tbody tr th {\n",
       "        vertical-align: top;\n",
       "    }\n",
       "\n",
       "    .dataframe thead th {\n",
       "        text-align: right;\n",
       "    }\n",
       "</style>\n",
       "<table border=\"1\" class=\"dataframe\">\n",
       "  <thead>\n",
       "    <tr style=\"text-align: right;\">\n",
       "      <th></th>\n",
       "      <th>Sort_Index</th>\n",
       "      <th>Eng_name</th>\n",
       "      <th>Chi_name</th>\n",
       "    </tr>\n",
       "  </thead>\n",
       "  <tbody>\n",
       "    <tr>\n",
       "      <th>0</th>\n",
       "      <td>0</td>\n",
       "      <td>Islands</td>\n",
       "      <td>離島</td>\n",
       "    </tr>\n",
       "    <tr>\n",
       "      <th>1</th>\n",
       "      <td>1</td>\n",
       "      <td>Tai Po</td>\n",
       "      <td>大埔</td>\n",
       "    </tr>\n",
       "    <tr>\n",
       "      <th>2</th>\n",
       "      <td>2</td>\n",
       "      <td>North</td>\n",
       "      <td>北區</td>\n",
       "    </tr>\n",
       "    <tr>\n",
       "      <th>3</th>\n",
       "      <td>3</td>\n",
       "      <td>Sai Kung</td>\n",
       "      <td>西貢</td>\n",
       "    </tr>\n",
       "    <tr>\n",
       "      <th>4</th>\n",
       "      <td>4</td>\n",
       "      <td>Wong Tai Sin</td>\n",
       "      <td>黃大仙</td>\n",
       "    </tr>\n",
       "    <tr>\n",
       "      <th>5</th>\n",
       "      <td>5</td>\n",
       "      <td>Yau Tsim Mong</td>\n",
       "      <td>油尖旺</td>\n",
       "    </tr>\n",
       "    <tr>\n",
       "      <th>6</th>\n",
       "      <td>6</td>\n",
       "      <td>Central and Western</td>\n",
       "      <td>中西區</td>\n",
       "    </tr>\n",
       "    <tr>\n",
       "      <th>7</th>\n",
       "      <td>7</td>\n",
       "      <td>Sham Shui Po</td>\n",
       "      <td>深水埗</td>\n",
       "    </tr>\n",
       "    <tr>\n",
       "      <th>8</th>\n",
       "      <td>8</td>\n",
       "      <td>Eastern</td>\n",
       "      <td>東區</td>\n",
       "    </tr>\n",
       "    <tr>\n",
       "      <th>9</th>\n",
       "      <td>9</td>\n",
       "      <td>Southern</td>\n",
       "      <td>南區</td>\n",
       "    </tr>\n",
       "    <tr>\n",
       "      <th>10</th>\n",
       "      <td>10</td>\n",
       "      <td>Kowloon City</td>\n",
       "      <td>九龍城</td>\n",
       "    </tr>\n",
       "    <tr>\n",
       "      <th>11</th>\n",
       "      <td>11</td>\n",
       "      <td>Kwai Tsing</td>\n",
       "      <td>葵青</td>\n",
       "    </tr>\n",
       "    <tr>\n",
       "      <th>12</th>\n",
       "      <td>12</td>\n",
       "      <td>Kwun Tong</td>\n",
       "      <td>觀塘</td>\n",
       "    </tr>\n",
       "    <tr>\n",
       "      <th>13</th>\n",
       "      <td>13</td>\n",
       "      <td>Wan Chai</td>\n",
       "      <td>灣仔</td>\n",
       "    </tr>\n",
       "    <tr>\n",
       "      <th>14</th>\n",
       "      <td>14</td>\n",
       "      <td>Sha Tin</td>\n",
       "      <td>沙田</td>\n",
       "    </tr>\n",
       "    <tr>\n",
       "      <th>15</th>\n",
       "      <td>15</td>\n",
       "      <td>Tsuen Wan</td>\n",
       "      <td>荃灣</td>\n",
       "    </tr>\n",
       "    <tr>\n",
       "      <th>16</th>\n",
       "      <td>16</td>\n",
       "      <td>Tuen Mun</td>\n",
       "      <td>屯門</td>\n",
       "    </tr>\n",
       "    <tr>\n",
       "      <th>17</th>\n",
       "      <td>17</td>\n",
       "      <td>Yuen Long</td>\n",
       "      <td>元朗</td>\n",
       "    </tr>\n",
       "  </tbody>\n",
       "</table>\n",
       "</div>"
      ],
      "text/plain": [
       "    Sort_Index             Eng_name Chi_name\n",
       "0            0              Islands       離島\n",
       "1            1               Tai Po       大埔\n",
       "2            2                North       北區\n",
       "3            3             Sai Kung       西貢\n",
       "4            4         Wong Tai Sin      黃大仙\n",
       "5            5        Yau Tsim Mong      油尖旺\n",
       "6            6  Central and Western      中西區\n",
       "7            7         Sham Shui Po      深水埗\n",
       "8            8              Eastern       東區\n",
       "9            9             Southern       南區\n",
       "10          10         Kowloon City      九龍城\n",
       "11          11           Kwai Tsing       葵青\n",
       "12          12            Kwun Tong       觀塘\n",
       "13          13             Wan Chai       灣仔\n",
       "14          14              Sha Tin       沙田\n",
       "15          15            Tsuen Wan       荃灣\n",
       "16          16             Tuen Mun       屯門\n",
       "17          17            Yuen Long       元朗"
      ]
     },
     "execution_count": 12,
     "metadata": {},
     "output_type": "execute_result"
    }
   ],
   "source": [
    "district_mapping = json_map_file.merge(district_name, on='Eng_name')\n",
    "district_mapping"
   ]
  },
  {
   "cell_type": "code",
   "execution_count": 13,
   "metadata": {},
   "outputs": [],
   "source": [
    "data2 = data2.merge(district_mapping, left_on='區議會分區', right_on='Chi_name')\n",
    "data2 = data2.sort_values(by=['Sort_Index']).reset_index(drop=True)"
   ]
  },
  {
   "cell_type": "code",
   "execution_count": 14,
   "metadata": {},
   "outputs": [
    {
     "data": {
      "text/html": [
       "<div>\n",
       "<style scoped>\n",
       "    .dataframe tbody tr th:only-of-type {\n",
       "        vertical-align: middle;\n",
       "    }\n",
       "\n",
       "    .dataframe tbody tr th {\n",
       "        vertical-align: top;\n",
       "    }\n",
       "\n",
       "    .dataframe thead th {\n",
       "        text-align: right;\n",
       "    }\n",
       "</style>\n",
       "<table border=\"1\" class=\"dataframe\">\n",
       "  <thead>\n",
       "    <tr style=\"text-align: right;\">\n",
       "      <th></th>\n",
       "      <th>區議會分區</th>\n",
       "      <th>18-35 (2019)</th>\n",
       "      <th>36-65 (2019)</th>\n",
       "      <th>&gt;=66 (2019)</th>\n",
       "      <th>18-35 (2016)</th>\n",
       "      <th>36-65 (2016)</th>\n",
       "      <th>&gt;=66 (2016)</th>\n",
       "      <th>18-35 (Diff)</th>\n",
       "      <th>36-65 (Diff)</th>\n",
       "      <th>&gt;=66 (Diff)</th>\n",
       "      <th>...</th>\n",
       "      <th>&gt;=66 (Proportion in 2019)</th>\n",
       "      <th>18-35 (Proportion in 2016)</th>\n",
       "      <th>36-65 (Proportion in 2016)</th>\n",
       "      <th>&gt;=66 (Proportion in 2016)</th>\n",
       "      <th>18-35 (Change in Proportion)</th>\n",
       "      <th>36-65 (Change in Proportion)</th>\n",
       "      <th>&gt;=66 (Change in Proportion)</th>\n",
       "      <th>Sort_Index</th>\n",
       "      <th>Eng_name</th>\n",
       "      <th>Chi_name</th>\n",
       "    </tr>\n",
       "  </thead>\n",
       "  <tbody>\n",
       "    <tr>\n",
       "      <th>0</th>\n",
       "      <td>離島</td>\n",
       "      <td>22148</td>\n",
       "      <td>47251</td>\n",
       "      <td>14814</td>\n",
       "      <td>16408</td>\n",
       "      <td>40867</td>\n",
       "      <td>11364</td>\n",
       "      <td>5740</td>\n",
       "      <td>6384</td>\n",
       "      <td>3450</td>\n",
       "      <td>...</td>\n",
       "      <td>0.175911</td>\n",
       "      <td>0.239048</td>\n",
       "      <td>0.595390</td>\n",
       "      <td>0.165562</td>\n",
       "      <td>0.023952</td>\n",
       "      <td>-0.034301</td>\n",
       "      <td>0.010349</td>\n",
       "      <td>0</td>\n",
       "      <td>Islands</td>\n",
       "      <td>離島</td>\n",
       "    </tr>\n",
       "    <tr>\n",
       "      <th>1</th>\n",
       "      <td>大埔</td>\n",
       "      <td>50701</td>\n",
       "      <td>102559</td>\n",
       "      <td>34234</td>\n",
       "      <td>50492</td>\n",
       "      <td>98681</td>\n",
       "      <td>26547</td>\n",
       "      <td>209</td>\n",
       "      <td>3878</td>\n",
       "      <td>7687</td>\n",
       "      <td>...</td>\n",
       "      <td>0.182587</td>\n",
       "      <td>0.287344</td>\n",
       "      <td>0.561581</td>\n",
       "      <td>0.151076</td>\n",
       "      <td>-0.016930</td>\n",
       "      <td>-0.014582</td>\n",
       "      <td>0.031512</td>\n",
       "      <td>1</td>\n",
       "      <td>Tai Po</td>\n",
       "      <td>大埔</td>\n",
       "    </tr>\n",
       "    <tr>\n",
       "      <th>2</th>\n",
       "      <td>北區</td>\n",
       "      <td>52652</td>\n",
       "      <td>101010</td>\n",
       "      <td>32834</td>\n",
       "      <td>51433</td>\n",
       "      <td>97434</td>\n",
       "      <td>26205</td>\n",
       "      <td>1219</td>\n",
       "      <td>3576</td>\n",
       "      <td>6629</td>\n",
       "      <td>...</td>\n",
       "      <td>0.176057</td>\n",
       "      <td>0.293782</td>\n",
       "      <td>0.556537</td>\n",
       "      <td>0.149681</td>\n",
       "      <td>-0.011460</td>\n",
       "      <td>-0.014917</td>\n",
       "      <td>0.026376</td>\n",
       "      <td>2</td>\n",
       "      <td>North</td>\n",
       "      <td>北區</td>\n",
       "    </tr>\n",
       "    <tr>\n",
       "      <th>3</th>\n",
       "      <td>西貢</td>\n",
       "      <td>71232</td>\n",
       "      <td>157752</td>\n",
       "      <td>45309</td>\n",
       "      <td>63775</td>\n",
       "      <td>146486</td>\n",
       "      <td>35547</td>\n",
       "      <td>7457</td>\n",
       "      <td>11266</td>\n",
       "      <td>9762</td>\n",
       "      <td>...</td>\n",
       "      <td>0.165185</td>\n",
       "      <td>0.259450</td>\n",
       "      <td>0.595937</td>\n",
       "      <td>0.144613</td>\n",
       "      <td>0.000243</td>\n",
       "      <td>-0.020814</td>\n",
       "      <td>0.020572</td>\n",
       "      <td>3</td>\n",
       "      <td>Sai Kung</td>\n",
       "      <td>西貢</td>\n",
       "    </tr>\n",
       "    <tr>\n",
       "      <th>4</th>\n",
       "      <td>黃大仙</td>\n",
       "      <td>61338</td>\n",
       "      <td>136479</td>\n",
       "      <td>66223</td>\n",
       "      <td>55896</td>\n",
       "      <td>133031</td>\n",
       "      <td>60097</td>\n",
       "      <td>5442</td>\n",
       "      <td>3448</td>\n",
       "      <td>6126</td>\n",
       "      <td>...</td>\n",
       "      <td>0.250807</td>\n",
       "      <td>0.224460</td>\n",
       "      <td>0.534210</td>\n",
       "      <td>0.241330</td>\n",
       "      <td>0.007845</td>\n",
       "      <td>-0.017322</td>\n",
       "      <td>0.009477</td>\n",
       "      <td>4</td>\n",
       "      <td>Wong Tai Sin</td>\n",
       "      <td>黃大仙</td>\n",
       "    </tr>\n",
       "  </tbody>\n",
       "</table>\n",
       "<p>5 rows × 25 columns</p>\n",
       "</div>"
      ],
      "text/plain": [
       "  區議會分區  18-35 (2019)  36-65 (2019)  >=66 (2019)  18-35 (2016)  36-65 (2016)  \\\n",
       "0    離島         22148         47251        14814         16408         40867   \n",
       "1    大埔         50701        102559        34234         50492         98681   \n",
       "2    北區         52652        101010        32834         51433         97434   \n",
       "3    西貢         71232        157752        45309         63775        146486   \n",
       "4   黃大仙         61338        136479        66223         55896        133031   \n",
       "\n",
       "   >=66 (2016)  18-35 (Diff)  36-65 (Diff)  >=66 (Diff)  ...  \\\n",
       "0        11364          5740          6384         3450  ...   \n",
       "1        26547           209          3878         7687  ...   \n",
       "2        26205          1219          3576         6629  ...   \n",
       "3        35547          7457         11266         9762  ...   \n",
       "4        60097          5442          3448         6126  ...   \n",
       "\n",
       "   >=66 (Proportion in 2019)  18-35 (Proportion in 2016)  \\\n",
       "0                   0.175911                    0.239048   \n",
       "1                   0.182587                    0.287344   \n",
       "2                   0.176057                    0.293782   \n",
       "3                   0.165185                    0.259450   \n",
       "4                   0.250807                    0.224460   \n",
       "\n",
       "   36-65 (Proportion in 2016)  >=66 (Proportion in 2016)  \\\n",
       "0                    0.595390                   0.165562   \n",
       "1                    0.561581                   0.151076   \n",
       "2                    0.556537                   0.149681   \n",
       "3                    0.595937                   0.144613   \n",
       "4                    0.534210                   0.241330   \n",
       "\n",
       "   18-35 (Change in Proportion)  36-65 (Change in Proportion)  \\\n",
       "0                      0.023952                     -0.034301   \n",
       "1                     -0.016930                     -0.014582   \n",
       "2                     -0.011460                     -0.014917   \n",
       "3                      0.000243                     -0.020814   \n",
       "4                      0.007845                     -0.017322   \n",
       "\n",
       "   >=66 (Change in Proportion)  Sort_Index      Eng_name  Chi_name  \n",
       "0                     0.010349           0       Islands        離島  \n",
       "1                     0.031512           1        Tai Po        大埔  \n",
       "2                     0.026376           2         North        北區  \n",
       "3                     0.020572           3      Sai Kung        西貢  \n",
       "4                     0.009477           4  Wong Tai Sin       黃大仙  \n",
       "\n",
       "[5 rows x 25 columns]"
      ]
     },
     "execution_count": 14,
     "metadata": {},
     "output_type": "execute_result"
    }
   ],
   "source": [
    "data2.head()"
   ]
  },
  {
   "cell_type": "markdown",
   "metadata": {},
   "source": [
    "## 2.2 Prepare tooltip"
   ]
  },
  {
   "cell_type": "code",
   "execution_count": 15,
   "metadata": {},
   "outputs": [
    {
     "name": "stdout",
     "output_type": "stream",
     "text": [
      "{'id_0': 102, 'iso': 'HKG', 'name_0': 'Hong Kong', 'id_1': 3, 'name_1': 'Islands', 'nl_name_1': None, 'varname_1': None, 'type_1': 'District', 'engtype_1': 'District', 'cartodb_id': 3, 'created_at': '2015-06-09T13:14:01Z', 'updated_at': '2015-06-09T13:14:01Z'}\n",
      "{'id_0': 102, 'iso': 'HKG', 'name_0': 'Hong Kong', 'id_1': 4, 'name_1': 'Kowloon City', 'nl_name_1': None, 'varname_1': None, 'type_1': 'District', 'engtype_1': 'District', 'cartodb_id': 4, 'created_at': '2015-06-09T13:14:01Z', 'updated_at': '2015-06-09T13:14:01Z'}\n"
     ]
    }
   ],
   "source": [
    "print(map_data['features'][0]['properties'])\n",
    "print(map_data['features'][10]['properties'])"
   ]
  },
  {
   "cell_type": "code",
   "execution_count": 16,
   "metadata": {},
   "outputs": [
    {
     "data": {
      "text/plain": [
       "['離島 26%',\n",
       " '大埔 27%',\n",
       " '北區 28%',\n",
       " '西貢 26%',\n",
       " '黃大仙 23%',\n",
       " '油尖旺 22%',\n",
       " '中西區 20%',\n",
       " '深水埗 23%',\n",
       " '東區 21%',\n",
       " '南區 21%',\n",
       " '九龍城 21%',\n",
       " '葵青 24%',\n",
       " '觀塘 23%',\n",
       " '灣仔 17%',\n",
       " '沙田 24%',\n",
       " '荃灣 23%',\n",
       " '屯門 25%',\n",
       " '元朗 29%']"
      ]
     },
     "execution_count": 16,
     "metadata": {},
     "output_type": "execute_result"
    }
   ],
   "source": [
    "# prepare the customised text\n",
    "tooltip_text = []\n",
    "for idx in range(len(data2)):\n",
    "    tooltip_text.append(data2['Chi_name'][idx]+' '+ \n",
    "                        str(int(round(data2['18-35 (Proportion in 2019)'][idx]*100)))+'%')\n",
    "tooltip_text"
   ]
  },
  {
   "cell_type": "code",
   "execution_count": 17,
   "metadata": {},
   "outputs": [
    {
     "data": {
      "text/plain": [
       "['離島 18%',\n",
       " '大埔 18%',\n",
       " '北區 18%',\n",
       " '西貢 17%',\n",
       " '黃大仙 25%',\n",
       " '油尖旺 24%',\n",
       " '中西區 24%',\n",
       " '深水埗 25%',\n",
       " '東區 26%',\n",
       " '南區 24%',\n",
       " '九龍城 25%',\n",
       " '葵青 24%',\n",
       " '觀塘 26%',\n",
       " '灣仔 29%',\n",
       " '沙田 21%',\n",
       " '荃灣 20%',\n",
       " '屯門 19%',\n",
       " '元朗 15%']"
      ]
     },
     "execution_count": 17,
     "metadata": {},
     "output_type": "execute_result"
    }
   ],
   "source": [
    "# prepare the customised text\n",
    "tooltip_text2 = []\n",
    "for idx in range(len(data2)):\n",
    "    tooltip_text2.append(data2['Chi_name'][idx]+' '+ \n",
    "                        str(int(round(data2['>=66 (Proportion in 2019)'][idx]*100)))+'%')\n",
    "tooltip_text2"
   ]
  },
  {
   "cell_type": "code",
   "execution_count": 18,
   "metadata": {},
   "outputs": [],
   "source": [
    "# Append a tooltip column with customised text\n",
    "for idx in range(len(tooltip_text)):\n",
    "    map_data['features'][idx]['properties']['tooltip1'] = tooltip_text[idx]\n",
    "    map_data['features'][idx]['properties']['tooltip2'] = tooltip_text2[idx]"
   ]
  },
  {
   "cell_type": "code",
   "execution_count": 19,
   "metadata": {},
   "outputs": [
    {
     "name": "stdout",
     "output_type": "stream",
     "text": [
      "{'id_0': 102, 'iso': 'HKG', 'name_0': 'Hong Kong', 'id_1': 3, 'name_1': 'Islands', 'nl_name_1': None, 'varname_1': None, 'type_1': 'District', 'engtype_1': 'District', 'cartodb_id': 3, 'created_at': '2015-06-09T13:14:01Z', 'updated_at': '2015-06-09T13:14:01Z', 'tooltip1': '離島 26%', 'tooltip2': '離島 18%'}\n"
     ]
    }
   ],
   "source": [
    "# Sample checking \n",
    "print(map_data['features'][0]['properties'])"
   ]
  },
  {
   "cell_type": "code",
   "execution_count": 20,
   "metadata": {},
   "outputs": [],
   "source": [
    "# Save output\n",
    "with open('hkg_mod.geojson', 'w') as output:\n",
    "    json.dump(map_data, output)"
   ]
  },
  {
   "cell_type": "markdown",
   "metadata": {},
   "source": [
    "# 3. Folium: A Map with Customised Tooltip"
   ]
  },
  {
   "cell_type": "code",
   "execution_count": 21,
   "metadata": {
    "scrolled": false
   },
   "outputs": [
    {
     "data": {
      "text/html": [
       "\n",
       "        <iframe\n",
       "            width=\"700\"\n",
       "            height=\"450\"\n",
       "            src=\"map2.html\"\n",
       "            frameborder=\"0\"\n",
       "            allowfullscreen\n",
       "        ></iframe>\n",
       "        "
      ],
      "text/plain": [
       "<IPython.lib.display.IFrame at 0x117d37610>"
      ]
     },
     "execution_count": 21,
     "metadata": {},
     "output_type": "execute_result"
    }
   ],
   "source": [
    "hk_geo = map_data\n",
    "voter_proportion = data2[['Eng_name','18-35 (Proportion in 2019)']]\n",
    "\n",
    "map2 = folium.Map([22.38, 114.15], tiles='cartodbpositron', zoom_start=10)\n",
    "\n",
    "choropleth = folium.Choropleth(\n",
    "    geo_data=hk_geo,\n",
    "    name='選民比例',\n",
    "    data=voter_proportion,\n",
    "    columns=['Eng_name','18-35 (Proportion in 2019)'],\n",
    "    key_on='feature.properties.name_1',\n",
    "    fill_color='YlOrBr', # ‘BuGn’, ‘BuPu’, ‘GnBu’, ‘OrRd’, ‘PuBu’, ‘PuBuGn’, ‘PuRd’, ‘RdPu’, ‘YlGn’, ‘YlGnBu’, ‘YlOrBr’, and ‘YlOrRd’.\n",
    "    fill_opacity=0.7,\n",
    "    line_opacity=0.2,\n",
    "    legend_name='2019年18-35歲選民 vs 18-35歲人口比例',\n",
    "    highlight=True\n",
    ").add_to(map2)\n",
    "\n",
    "folium.LayerControl().add_to(map2)\n",
    "choropleth.geojson.add_child(\n",
    "    folium.features.GeoJsonTooltip(['tooltip1'], labels=False)\n",
    ")\n",
    "\n",
    "map2.save('map2.html')\n",
    "IFrame('map2.html', width=700, height=450)"
   ]
  },
  {
   "cell_type": "code",
   "execution_count": 22,
   "metadata": {
    "scrolled": false
   },
   "outputs": [
    {
     "data": {
      "text/html": [
       "\n",
       "        <iframe\n",
       "            width=\"700\"\n",
       "            height=\"450\"\n",
       "            src=\"map3.html\"\n",
       "            frameborder=\"0\"\n",
       "            allowfullscreen\n",
       "        ></iframe>\n",
       "        "
      ],
      "text/plain": [
       "<IPython.lib.display.IFrame at 0x117d7a2b0>"
      ]
     },
     "execution_count": 22,
     "metadata": {},
     "output_type": "execute_result"
    }
   ],
   "source": [
    "hk_geo = map_data\n",
    "voter_proportion = data2[['Eng_name','>=66 (Proportion in 2019)']]\n",
    "\n",
    "map3 = folium.Map([22.38, 114.15], tiles='cartodbpositron', zoom_start=10)\n",
    "\n",
    "choropleth = folium.Choropleth(\n",
    "    geo_data=hk_geo,\n",
    "    name='選民比例',\n",
    "    data=voter_proportion,\n",
    "    columns=['Eng_name','>=66 (Proportion in 2019)'],\n",
    "    key_on='feature.properties.name_1',\n",
    "    fill_color='YlGnBu', # ‘BuGn’, ‘BuPu’, ‘GnBu’, ‘OrRd’, ‘PuBu’, ‘PuBuGn’, ‘PuRd’, ‘RdPu’, ‘YlGn’, ‘YlGnBu’, ‘YlOrBr’, and ‘YlOrRd’.\n",
    "    fill_opacity=0.7,\n",
    "    line_opacity=0.2,\n",
    "    legend_name='2019年65歲以上選民 vs 65歲以上人口比例',\n",
    "    highlight=True\n",
    ").add_to(map3)\n",
    "\n",
    "folium.LayerControl().add_to(map3)\n",
    "choropleth.geojson.add_child(\n",
    "    folium.features.GeoJsonTooltip(['tooltip2'], labels=False)\n",
    ")\n",
    "\n",
    "map3.save('map3.html')\n",
    "IFrame('map3.html', width=700, height=450)"
   ]
  }
 ],
 "metadata": {
  "kernelspec": {
   "display_name": "Python 3",
   "language": "python",
   "name": "python3"
  },
  "language_info": {
   "codemirror_mode": {
    "name": "ipython",
    "version": 3
   },
   "file_extension": ".py",
   "mimetype": "text/x-python",
   "name": "python",
   "nbconvert_exporter": "python",
   "pygments_lexer": "ipython3",
   "version": "3.8.2"
  }
 },
 "nbformat": 4,
 "nbformat_minor": 4
}
